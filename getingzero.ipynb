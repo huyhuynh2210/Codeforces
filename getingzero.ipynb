{
 "cells": [
  {
   "cell_type": "code",
   "execution_count": 1,
   "metadata": {},
   "outputs": [
    {
     "name": "stdout",
     "output_type": "stream",
     "text": [
      "Overwriting p.py\n"
     ]
    }
   ],
   "source": [
    "%%writefile p.py\n",
    "\n",
    "import sys\n",
    "import math\n",
    "\n",
    "def search_2x(v):\n",
    "  for y in range(1,16):\n",
    "    x=v*(2**y)\n",
    "    if x%32768==0:\n",
    "      return y\n",
    "\n",
    "n = int(sys.stdin.readline())\n",
    "arr=list(map(int,sys.stdin.readline().strip().split()))\n",
    "for v in arr:\n",
    "  res=[]\n",
    "  count=0\n",
    "  i=0\n",
    "  while i<15:\n",
    "    if v%32768==0:\n",
    "      res.append(count)\n",
    "      break\n",
    "    else:\n",
    "      res.append(count+ search_2x(v))\n",
    "    v=v+1\n",
    "    count=count+1\n",
    "    i+=1\n",
    "  print(min(res), end=' ')"
   ]
  },
  {
   "cell_type": "code",
   "execution_count": 2,
   "metadata": {},
   "outputs": [
    {
     "name": "stdout",
     "output_type": "stream",
     "text": [
      "Overwriting input.txt\n"
     ]
    }
   ],
   "source": [
    "%%writefile input.txt\n",
    "4\n",
    "19 32764 10240 49"
   ]
  },
  {
   "cell_type": "code",
   "execution_count": 3,
   "metadata": {},
   "outputs": [
    {
     "name": "stdout",
     "output_type": "stream",
     "text": [
      "14 4 4 15 "
     ]
    }
   ],
   "source": [
    "!python3 p.py < input.txt"
   ]
  }
 ],
 "metadata": {
  "interpreter": {
   "hash": "30295c5bec572e859485b1ffa5e89b8b3e2022ef6e3e739c1ac40f143a557caf"
  },
  "kernelspec": {
   "display_name": "Python 3.6.9 64-bit",
   "language": "python",
   "name": "python3"
  },
  "language_info": {
   "codemirror_mode": {
    "name": "ipython",
    "version": 3
   },
   "file_extension": ".py",
   "mimetype": "text/x-python",
   "name": "python",
   "nbconvert_exporter": "python",
   "pygments_lexer": "ipython3",
   "version": "3.7.13"
  },
  "orig_nbformat": 4
 },
 "nbformat": 4,
 "nbformat_minor": 2
}
